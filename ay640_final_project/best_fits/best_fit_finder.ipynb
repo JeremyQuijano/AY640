{
 "cells": [
  {
   "cell_type": "code",
   "execution_count": 2,
   "id": "44695bc4",
   "metadata": {},
   "outputs": [],
   "source": [
    "import numpy as np\n",
    "import glob"
   ]
  },
  {
   "cell_type": "code",
   "execution_count": 11,
   "id": "eec91d15",
   "metadata": {},
   "outputs": [
    {
     "name": "stdout",
     "output_type": "stream",
     "text": [
      "Model Name = ir_sync_cutoff_9000GHz_ir_bb_950K_residuals.txt\n",
      "Best Sum of Residuals = 38.447800332326985\n",
      "Model Name = ir_bb_1100K_residuals.txt\n",
      "Best Sum of Residuals = 53.302553987247705\n",
      "Model Name = ir_sync_cutoff_2000GHz_ir_bb_500K_residuals.txt\n",
      "Best Sum of Residuals = 14.786636752472308\n",
      "Model Name = ir_sync_cutoff_2000GHz_ir_bb_900K_residuals.txt\n",
      "Best Sum of Residuals = 20.704828672481312\n",
      "Model Name = radio_sync_star_bb_residuals.txt\n",
      "Best Sum of Residuals = 11.521077111035918\n",
      "Model Name = ir_sync_cutoff_31000GHz_residuals.txt\n",
      "Best Sum of Residuals = 8.38611013056878\n"
     ]
    }
   ],
   "source": [
    "for i in glob.glob('*residuals.txt'):\n",
    "    print(f'Model Name = {i}')\n",
    "    print(f'Best Sum of Residuals = {np.min(np.loadtxt(i))}')"
   ]
  },
  {
   "cell_type": "code",
   "execution_count": null,
   "id": "bc8fc773",
   "metadata": {},
   "outputs": [],
   "source": []
  }
 ],
 "metadata": {
  "kernelspec": {
   "display_name": "Python [conda env:ay640]",
   "language": "python",
   "name": "conda-env-ay640-py"
  },
  "language_info": {
   "codemirror_mode": {
    "name": "ipython",
    "version": 3
   },
   "file_extension": ".py",
   "mimetype": "text/x-python",
   "name": "python",
   "nbconvert_exporter": "python",
   "pygments_lexer": "ipython3",
   "version": "3.8.12"
  }
 },
 "nbformat": 4,
 "nbformat_minor": 5
}
