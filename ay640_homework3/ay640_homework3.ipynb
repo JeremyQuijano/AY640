{
 "cells": [
  {
   "cell_type": "code",
   "execution_count": 1,
   "id": "40f6eec1",
   "metadata": {},
   "outputs": [],
   "source": [
    "import numpy as np\n",
    "import astropy\n",
    "import astropy.units as u\n",
    "import astropy.constants as const"
   ]
  },
  {
   "cell_type": "code",
   "execution_count": 91,
   "id": "b9e3522a",
   "metadata": {},
   "outputs": [],
   "source": [
    "# Problem 1b\n",
    "def obs_ratio(v, theta, alpha, x):\n",
    "    gamma = (1. - (v / const.c.value)**2)**(-1./2.)\n",
    "    return gamma * (1. - ((v * np.cos(theta)) / const.c.value))**(-alpha * x) * 1.0E6"
   ]
  },
  {
   "cell_type": "code",
   "execution_count": 96,
   "id": "43ae9692",
   "metadata": {},
   "outputs": [
    {
     "data": {
      "text/plain": [
       "1000939.9600750763"
      ]
     },
     "execution_count": 96,
     "metadata": {},
     "output_type": "execute_result"
    }
   ],
   "source": [
    "obs_ratio(375.0E3, 0.0, 0.75, 1.)"
   ]
  },
  {
   "cell_type": "code",
   "execution_count": 93,
   "id": "e7c93be6",
   "metadata": {},
   "outputs": [
    {
     "data": {
      "text/plain": [
       "999063.6582169547"
      ]
     },
     "execution_count": 93,
     "metadata": {},
     "output_type": "execute_result"
    }
   ],
   "source": [
    "obs_ratio(375.0E3, np.pi, 0.75, 1.)"
   ]
  },
  {
   "cell_type": "code",
   "execution_count": 157,
   "id": "c41c1b78",
   "metadata": {},
   "outputs": [],
   "source": [
    "# Problem 1d\n",
    "def T(T_prime, v, theta):\n",
    "    gamma = (1 - (v.si / const.c)**2)**(-1./2.)\n",
    "    return T_prime / (gamma * (1 - (v.si * np.cos(theta) / const.c)))"
   ]
  },
  {
   "cell_type": "code",
   "execution_count": 159,
   "id": "a6b13fdc",
   "metadata": {},
   "outputs": [
    {
     "data": {
      "text/latex": [
       "$-0.0033794514 \\; \\mathrm{K}$"
      ],
      "text/plain": [
       "<Quantity -0.00337945 K>"
      ]
     },
     "execution_count": 159,
     "metadata": {},
     "output_type": "execute_result"
    }
   ],
   "source": [
    "2.7 * u.K - T(2.7 * u.K, 375.0E3 * u.m / u.s, 0.0)"
   ]
  },
  {
   "cell_type": "code",
   "execution_count": 160,
   "id": "6851b1f5",
   "metadata": {},
   "outputs": [
    {
     "data": {
      "text/latex": [
       "$0.0033752268 \\; \\mathrm{K}$"
      ],
      "text/plain": [
       "<Quantity 0.00337523 K>"
      ]
     },
     "execution_count": 160,
     "metadata": {},
     "output_type": "execute_result"
    }
   ],
   "source": [
    "2.7 * u.K - T(2.7 * u.K, 375.0E3 * u.m / u.s, np.pi)"
   ]
  },
  {
   "cell_type": "code",
   "execution_count": null,
   "id": "40c88cd3",
   "metadata": {},
   "outputs": [],
   "source": []
  },
  {
   "cell_type": "code",
   "execution_count": null,
   "id": "3597a517",
   "metadata": {},
   "outputs": [],
   "source": []
  },
  {
   "cell_type": "code",
   "execution_count": null,
   "id": "71b2a502",
   "metadata": {},
   "outputs": [],
   "source": []
  },
  {
   "cell_type": "code",
   "execution_count": 46,
   "id": "d1a69983",
   "metadata": {},
   "outputs": [],
   "source": [
    "# Problem 2b\n",
    "def aberration(v):\n",
    "    return np.arctan((const.c.value / v) * np.sqrt(1 - (v**2 / const.c.value**2)))"
   ]
  },
  {
   "cell_type": "code",
   "execution_count": 18,
   "id": "9aba17e8",
   "metadata": {},
   "outputs": [
    {
     "data": {
      "text/latex": [
       "$20.64076 \\; \\mathrm{{}^{\\prime\\prime}}$"
      ],
      "text/plain": [
       "<Quantity 20.64076007 arcsec>"
      ]
     },
     "execution_count": 18,
     "metadata": {},
     "output_type": "execute_result"
    }
   ],
   "source": [
    "(((np.pi / 2) - aberration(30000)) * u.rad).to(u.arcsec)"
   ]
  },
  {
   "cell_type": "code",
   "execution_count": 7,
   "id": "42e3db13",
   "metadata": {},
   "outputs": [],
   "source": [
    "# Problem 2c\n",
    "def parallax(d):\n",
    "    return 1. / d"
   ]
  },
  {
   "cell_type": "code",
   "execution_count": 19,
   "id": "2206f261",
   "metadata": {},
   "outputs": [
    {
     "data": {
      "text/latex": [
       "$0.021141649 \\; \\mathrm{{}^{\\prime\\prime}}$"
      ],
      "text/plain": [
       "<Quantity 0.02114165 arcsec>"
      ]
     },
     "execution_count": 19,
     "metadata": {},
     "output_type": "execute_result"
    }
   ],
   "source": [
    "parallax(47.3) * u.arcsec"
   ]
  },
  {
   "cell_type": "code",
   "execution_count": null,
   "id": "4b99647f",
   "metadata": {},
   "outputs": [],
   "source": []
  },
  {
   "cell_type": "code",
   "execution_count": null,
   "id": "97e052d8",
   "metadata": {},
   "outputs": [],
   "source": []
  },
  {
   "cell_type": "code",
   "execution_count": null,
   "id": "ff8430d3",
   "metadata": {},
   "outputs": [],
   "source": []
  },
  {
   "cell_type": "code",
   "execution_count": 26,
   "id": "f1fb7227",
   "metadata": {},
   "outputs": [],
   "source": [
    "# Problem 3a\n",
    "def T_eff(F_nu, nu, r, d):\n",
    "    return ((F_nu * const.c**2) / (2. * np.pi * nu**2 * const.k_B)) * (d / r)**2"
   ]
  },
  {
   "cell_type": "code",
   "execution_count": 27,
   "id": "7c7d32ba",
   "metadata": {},
   "outputs": [
    {
     "data": {
      "text/latex": [
       "$777.0331 \\; \\mathrm{K}$"
      ],
      "text/plain": [
       "<Quantity 777.03309816 K>"
      ]
     },
     "execution_count": 27,
     "metadata": {},
     "output_type": "execute_result"
    }
   ],
   "source": [
    "T_eff((3.0E-24 * (u.W / (u.m**2 * u.Hz))).si, (1.0 * u.GHz).si, (1.0 * u.pc).si, (500.0 * u.pc).si).to(u.K)"
   ]
  },
  {
   "cell_type": "code",
   "execution_count": 174,
   "id": "82e4cd9c",
   "metadata": {},
   "outputs": [],
   "source": [
    "# Problem 3b\n",
    "def n_e(F_nu, d, r, Z, T, nu, g_ff):\n",
    "    return np.sqrt(F_nu.cgs * (3 * d.cgs**2 / r.cgs**3) * (6.8E-38 * Z**2 * T**(-1./2.) * np.exp(-(const.h.cgs * nu) / (const.k_B.cgs * T)) * g_ff)**(-1))"
   ]
  },
  {
   "cell_type": "code",
   "execution_count": 175,
   "id": "188ee3ef",
   "metadata": {},
   "outputs": [
    {
     "data": {
      "text/latex": [
       "$546.73918 \\; \\mathrm{\\frac{g^{1/2}\\,K^{1/4}}{cm^{1/2}\\,s}}$"
      ],
      "text/plain": [
       "<Quantity 546.73918012 g(1/2) K(1/4) / (cm(1/2) s)>"
      ]
     },
     "execution_count": 175,
     "metadata": {},
     "output_type": "execute_result"
    }
   ],
   "source": [
    "n_e(300.0E-26 * u.W / u.m**2 / u.Hz, 500.0 * u.pc, 1.0 * u.pc, 1.0, 777.0 * u.K, 1.0 * u.GHz, 1.0)"
   ]
  },
  {
   "cell_type": "code",
   "execution_count": 176,
   "id": "a65a46fa",
   "metadata": {},
   "outputs": [],
   "source": [
    "# Problem 3c\n",
    "def nu(T, g_ff, n_e, tau):\n",
    "    return (5.5E-8 * (T / 1.0E4)**(-3./2.) * g_ff * n_e**2 * tau)**(1./2.)"
   ]
  },
  {
   "cell_type": "code",
   "execution_count": 178,
   "id": "03967b98",
   "metadata": {},
   "outputs": [
    {
     "data": {
      "text/latex": [
       "$0.87125599 \\; \\mathrm{\\frac{g^{1/2}\\,K^{1/4}}{cm^{1/2}\\,s}}$"
      ],
      "text/plain": [
       "<Quantity 0.87125599 g(1/2) K(1/4) / (cm(1/2) s)>"
      ]
     },
     "execution_count": 178,
     "metadata": {},
     "output_type": "execute_result"
    }
   ],
   "source": [
    "nu(777., 1., n_e(300.0E-26 * u.W / u.m**2 / u.Hz, 500.0 * u.pc, 1.0 * u.pc, 1.0, 777.0 * u.K, 1.0 * u.GHz, 1.0), 1.)"
   ]
  },
  {
   "cell_type": "code",
   "execution_count": null,
   "id": "c95d1d1a",
   "metadata": {},
   "outputs": [],
   "source": []
  },
  {
   "cell_type": "code",
   "execution_count": 38,
   "id": "579b3a39",
   "metadata": {},
   "outputs": [],
   "source": [
    "# Problem 4a\n",
    "def T_e(E):\n",
    "    return E.si / const.k_B.si"
   ]
  },
  {
   "cell_type": "code",
   "execution_count": 39,
   "id": "9f7da3db",
   "metadata": {},
   "outputs": [
    {
     "data": {
      "text/latex": [
       "$23209036 \\; \\mathrm{\\frac{K\\,N\\,m}{J}}$"
      ],
      "text/plain": [
       "<Quantity 23209036.24310016 K m N / J>"
      ]
     },
     "execution_count": 39,
     "metadata": {},
     "output_type": "execute_result"
    }
   ],
   "source": [
    "T_e(2 * u.keV)"
   ]
  },
  {
   "cell_type": "code",
   "execution_count": 67,
   "id": "ab4bac44",
   "metadata": {},
   "outputs": [],
   "source": [
    "# Problem 4b\n",
    "def v_th(T):\n",
    "    return np.sqrt((3 * const.k_B.value * T) / const.m_e.value)"
   ]
  },
  {
   "cell_type": "code",
   "execution_count": 68,
   "id": "eac324ce",
   "metadata": {},
   "outputs": [
    {
     "data": {
      "text/plain": [
       "0.10835915790298133"
      ]
     },
     "execution_count": 68,
     "metadata": {},
     "output_type": "execute_result"
    }
   ],
   "source": [
    "v_th(T_e(2 * u.keV).value) / const.c.value"
   ]
  },
  {
   "cell_type": "code",
   "execution_count": 70,
   "id": "c5aa3d09",
   "metadata": {},
   "outputs": [
    {
     "data": {
      "text/plain": [
       "1.0059230650613467"
      ]
     },
     "execution_count": 70,
     "metadata": {},
     "output_type": "execute_result"
    }
   ],
   "source": [
    "1. / np.sqrt((1 - (v_th(T_e(2 * u.keV).value) / const.c.value)**2))"
   ]
  },
  {
   "cell_type": "code",
   "execution_count": null,
   "id": "71643b26",
   "metadata": {},
   "outputs": [],
   "source": []
  },
  {
   "cell_type": "code",
   "execution_count": null,
   "id": "9afbd98f",
   "metadata": {},
   "outputs": [],
   "source": []
  },
  {
   "cell_type": "code",
   "execution_count": null,
   "id": "187bb09a",
   "metadata": {},
   "outputs": [],
   "source": []
  },
  {
   "cell_type": "code",
   "execution_count": 106,
   "id": "13a0f2e9",
   "metadata": {},
   "outputs": [],
   "source": [
    "# Problem 5b\n",
    "def n_e_5b(L, r, T, Z, g_B):\n",
    "    V = (4. / 3.) * np.pi * r.cgs**3\n",
    "    return ((L.cgs / V.cgs) * (1.4E-27 * T**(1./2.) * Z**2 * g_B)**(-1))**(1./2.)"
   ]
  },
  {
   "cell_type": "code",
   "execution_count": 107,
   "id": "f817001f",
   "metadata": {},
   "outputs": [
    {
     "data": {
      "text/latex": [
       "$0.0010323612 \\; \\mathrm{\\frac{erg^{1/2}}{K^{1/4}\\,s^{1/2}\\,cm^{3/2}}}$"
      ],
      "text/plain": [
       "<Quantity 0.00103236 erg(1/2) / (cm(3/2) K(1/4) s(1/2))>"
      ]
     },
     "execution_count": 107,
     "metadata": {},
     "output_type": "execute_result"
    }
   ],
   "source": [
    "n_e_5b(5.0E44 * u.erg / u.s, 2.0E24 * u.cm, 1.0E8 * u.K, 1., 1.)"
   ]
  },
  {
   "cell_type": "code",
   "execution_count": 145,
   "id": "e8092a9a",
   "metadata": {},
   "outputs": [],
   "source": [
    "# Problem 5c\n",
    "def N(n_e, r):\n",
    "    V = (4. / 3.) * np.pi * r.cgs**3\n",
    "    return n_e * V.cgs\n",
    "\n",
    "def E_th(N, T):\n",
    "    return N.cgs * 3. * const.k_B.cgs * T\n",
    "\n",
    "def t_cool(N, T, r, L):\n",
    "    V = (4. / 3.) * np.pi * r.cgs.value**3\n",
    "    return 3. * N.cgs.value * const.k_B.cgs.value * T.value * V / L.value\n",
    "\n",
    "def tau_cool(T, n_e, g_ff):\n",
    "    return 6.0E3 * T**(1./2.) * n_e**(-1.) * g_ff"
   ]
  },
  {
   "cell_type": "code",
   "execution_count": 146,
   "id": "91f66812",
   "metadata": {},
   "outputs": [
    {
     "data": {
      "text/latex": [
       "$3.4594757 \\times 10^{70} \\; \\mathrm{\\frac{cm^{3/2}\\,erg^{1/2}}{K^{1/4}\\,s^{1/2}}}$"
      ],
      "text/plain": [
       "<Quantity 3.45947568e+70 cm(3/2) erg(1/2) / (K(1/4) s(1/2))>"
      ]
     },
     "execution_count": 146,
     "metadata": {},
     "output_type": "execute_result"
    }
   ],
   "source": [
    "N(n_e_5b(5.0E44 * u.erg / u.s, 2.0E24 * u.cm, 1.0E8 * u.K, 1., 1.), 2.0E24 * u.cm)"
   ]
  },
  {
   "cell_type": "code",
   "execution_count": 147,
   "id": "cb3798c2",
   "metadata": {},
   "outputs": [
    {
     "data": {
      "text/latex": [
       "$1.4328965 \\times 10^{63} \\; \\mathrm{\\frac{cm^{5/2}\\,erg\\,g^{1/2}}{K^{1/4}\\,s^{3/2}}}$"
      ],
      "text/plain": [
       "<Quantity 1.43289649e+63 cm(5/2) erg g(1/2) / (K(1/4) s(3/2))>"
      ]
     },
     "execution_count": 147,
     "metadata": {},
     "output_type": "execute_result"
    }
   ],
   "source": [
    "E_th(N(n_e_5b(5.0E44 * u.erg / u.s, 2.0E24 * u.cm, 1.0E8 * u.K, 1., 1.), 2.0E24 * u.cm), 1.0E8 * u.K)"
   ]
  },
  {
   "cell_type": "code",
   "execution_count": 149,
   "id": "917299ca",
   "metadata": {},
   "outputs": [
    {
     "data": {
      "text/plain": [
       "3.0431225675520888e+84"
      ]
     },
     "execution_count": 149,
     "metadata": {},
     "output_type": "execute_result"
    }
   ],
   "source": [
    "t_cool(N(n_e_5b(5.0E44 * u.erg / u.s, 2.0E24 * u.cm, 1.0E8 * u.K, 1., 1.), 2.0E24 * u.cm), 1.0E8 * u.K, 2.0E24 * u.cm, 5.0E44 * u.erg / u.s)"
   ]
  },
  {
   "cell_type": "code",
   "execution_count": 129,
   "id": "daa59ea4",
   "metadata": {},
   "outputs": [
    {
     "data": {
      "text/latex": [
       "$8.2192949 \\times 10^{20} \\; \\mathrm{\\frac{cm^{2}\\,K^{1/2}\\,s^{1/2}}{erg^{1/2}}}$"
      ],
      "text/plain": [
       "<Quantity 8.21929489e+20 cm2 K(1/2) s(1/2) / erg(1/2)>"
      ]
     },
     "execution_count": 129,
     "metadata": {},
     "output_type": "execute_result"
    }
   ],
   "source": [
    "tau_cool(1.0E8 * u.K, n_e_5b(5.0E44 * u.erg / u.s, 2.0E24 * u.cm, 1., 1., 2.0E24 * u.cm), 1.)"
   ]
  },
  {
   "cell_type": "code",
   "execution_count": 130,
   "id": "4de28229",
   "metadata": {},
   "outputs": [
    {
     "data": {
      "text/plain": [
       "67430715.9556092"
      ]
     },
     "execution_count": 130,
     "metadata": {},
     "output_type": "execute_result"
    }
   ],
   "source": [
    "v_th(1.0E8)"
   ]
  },
  {
   "cell_type": "code",
   "execution_count": 131,
   "id": "13243876",
   "metadata": {},
   "outputs": [
    {
     "data": {
      "text/plain": [
       "0.2249246575629638"
      ]
     },
     "execution_count": 131,
     "metadata": {},
     "output_type": "execute_result"
    }
   ],
   "source": [
    "v_th(1.0E8) / const.c.value"
   ]
  },
  {
   "cell_type": "code",
   "execution_count": 134,
   "id": "0ee747fd",
   "metadata": {},
   "outputs": [],
   "source": [
    "def gamma(v):\n",
    "    return (1 - (v.si / const.c)**2)**(-1./2.)"
   ]
  },
  {
   "cell_type": "code",
   "execution_count": 136,
   "id": "044699fa",
   "metadata": {},
   "outputs": [
    {
     "data": {
      "text/latex": [
       "$1.0057459 \\; \\mathrm{}$"
      ],
      "text/plain": [
       "<Quantity 1.00574591>"
      ]
     },
     "execution_count": 136,
     "metadata": {},
     "output_type": "execute_result"
    }
   ],
   "source": [
    "gamma(3.2E7 * u.m / u.s)"
   ]
  },
  {
   "cell_type": "code",
   "execution_count": null,
   "id": "a14694c1",
   "metadata": {},
   "outputs": [],
   "source": []
  }
 ],
 "metadata": {
  "kernelspec": {
   "display_name": "Python [conda env:ay640]",
   "language": "python",
   "name": "conda-env-ay640-py"
  },
  "language_info": {
   "codemirror_mode": {
    "name": "ipython",
    "version": 3
   },
   "file_extension": ".py",
   "mimetype": "text/x-python",
   "name": "python",
   "nbconvert_exporter": "python",
   "pygments_lexer": "ipython3",
   "version": "3.8.12"
  }
 },
 "nbformat": 4,
 "nbformat_minor": 5
}
